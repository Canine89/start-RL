{
  "nbformat": 4,
  "nbformat_minor": 0,
  "metadata": {
    "colab": {
      "name": "Open AI GPT-2 English.ipynb",
      "provenance": []
    },
    "kernelspec": {
      "name": "python3",
      "display_name": "Python 3"
    },
    "accelerator": "GPU"
  },
  "cells": [
    {
      "cell_type": "markdown",
      "metadata": {
        "id": "Ah3JcqsVCqIx"
      },
      "source": [
        "### Reference \n",
        "Radford, A., Wu, J., Child, R., Luan, D., Amodei, D., & Sutskever, I. (2019). Language models are unsupervised multitask learners. OpenAI blog, 1(8), 9. https://github.com/openai/gpt-2  "
      ]
    },
    {
      "cell_type": "code",
      "metadata": {
        "colab": {
          "base_uri": "https://localhost:8080/"
        },
        "id": "ykGQ_bSXz86I",
        "outputId": "1f36b5ae-5ec8-45c2-d540-409910f0420a"
      },
      "source": [
        "## Install\n",
        "!git clone https://github.com/openai/gpt-2"
      ],
      "execution_count": 1,
      "outputs": [
        {
          "output_type": "stream",
          "text": [
            "Cloning into 'gpt-2'...\n",
            "remote: Enumerating objects: 233, done.\u001b[K\n",
            "remote: Total 233 (delta 0), reused 0 (delta 0), pack-reused 233\u001b[K\n",
            "Receiving objects: 100% (233/233), 4.38 MiB | 22.53 MiB/s, done.\n",
            "Resolving deltas: 100% (124/124), done.\n"
          ],
          "name": "stdout"
        }
      ]
    },
    {
      "cell_type": "code",
      "metadata": {
        "colab": {
          "base_uri": "https://localhost:8080/"
        },
        "id": "qaDMsGBy0I8o",
        "outputId": "faf4a99d-0ced-4a66-f30c-f44007190eae"
      },
      "source": [
        "!ls"
      ],
      "execution_count": 2,
      "outputs": [
        {
          "output_type": "stream",
          "text": [
            "gpt-2  sample_data\n"
          ],
          "name": "stdout"
        }
      ]
    },
    {
      "cell_type": "code",
      "metadata": {
        "id": "cphZEOGU0MIQ"
      },
      "source": [
        "import os\n",
        "os.chdir(\"gpt-2\")"
      ],
      "execution_count": 3,
      "outputs": []
    },
    {
      "cell_type": "code",
      "metadata": {
        "colab": {
          "base_uri": "https://localhost:8080/"
        },
        "id": "kTf4Ozki0S-F",
        "outputId": "0016c75d-9672-4aef-cb7e-2c83c79d5430"
      },
      "source": [
        "!ls"
      ],
      "execution_count": 4,
      "outputs": [
        {
          "output_type": "stream",
          "text": [
            "CONTRIBUTORS.md  Dockerfile.gpu     LICENSE\t   requirements.txt\n",
            "DEVELOPERS.md\t domains.txt\t    model_card.md  src\n",
            "Dockerfile.cpu\t download_model.py  README.md\n"
          ],
          "name": "stdout"
        }
      ]
    },
    {
      "cell_type": "code",
      "metadata": {
        "colab": {
          "base_uri": "https://localhost:8080/"
        },
        "id": "hq4fBszX0Wwl",
        "outputId": "680b1374-a212-46c0-ab8a-a3ac90a6f3f6"
      },
      "source": [
        "# !python3 download_model.py 124M\n",
        "# !python3 download_model.py 355M\n",
        "# !python3 download_model.py 774M\n",
        "!python3 download_model.py 1558M"
      ],
      "execution_count": 11,
      "outputs": [
        {
          "output_type": "stream",
          "text": [
            "Fetching checkpoint: 1.00kit [00:00, 1.27Mit/s]                                                     \n",
            "Fetching encoder.json: 1.04Mit [00:00, 2.29Mit/s]                                                   \n",
            "Fetching hparams.json: 1.00kit [00:00, 1.25Mit/s]                                                   \n",
            "Fetching model.ckpt.data-00000-of-00001: 6.23Git [05:24, 19.2Mit/s]                                 \n",
            "Fetching model.ckpt.index: 21.0kit [00:00, 508kit/s]                                                \n",
            "Fetching model.ckpt.meta: 1.84Mit [00:00, 3.30Mit/s]                                                \n",
            "Fetching vocab.bpe: 457kit [00:00, 1.29Mit/s]                                                       \n"
          ],
          "name": "stdout"
        }
      ]
    },
    {
      "cell_type": "code",
      "metadata": {
        "colab": {
          "base_uri": "https://localhost:8080/"
        },
        "id": "WB7AVfUc0e7_",
        "outputId": "3873fcc1-53ab-4677-d074-dbbba62f4d26"
      },
      "source": [
        "%tensorflow_version 1.x"
      ],
      "execution_count": 6,
      "outputs": [
        {
          "output_type": "stream",
          "text": [
            "TensorFlow 1.x selected.\n"
          ],
          "name": "stdout"
        }
      ]
    },
    {
      "cell_type": "code",
      "metadata": {
        "colab": {
          "base_uri": "https://localhost:8080/"
        },
        "id": "tGlUouih01qw",
        "outputId": "4459a050-5aad-46d4-9c11-3ca5598c2db4"
      },
      "source": [
        "import tensorflow\n",
        "print(tensorflow.__version__)"
      ],
      "execution_count": 7,
      "outputs": [
        {
          "output_type": "stream",
          "text": [
            "1.15.2\n"
          ],
          "name": "stdout"
        }
      ]
    },
    {
      "cell_type": "code",
      "metadata": {
        "colab": {
          "base_uri": "https://localhost:8080/",
          "height": 882
        },
        "id": "LYky4bXH04q_",
        "outputId": "2a2d5ec9-08d0-49ee-a5ec-47a4b8178aa9"
      },
      "source": [
        "!pip3 install -r requirements.txt"
      ],
      "execution_count": 8,
      "outputs": [
        {
          "output_type": "stream",
          "text": [
            "Collecting fire>=0.1.3\n",
            "\u001b[?25l  Downloading https://files.pythonhosted.org/packages/11/07/a119a1aa04d37bc819940d95ed7e135a7dcca1c098123a3764a6dcace9e7/fire-0.4.0.tar.gz (87kB)\n",
            "\u001b[K     |████████████████████████████████| 92kB 6.1MB/s \n",
            "\u001b[?25hCollecting regex==2017.4.5\n",
            "\u001b[?25l  Downloading https://files.pythonhosted.org/packages/36/62/c0c0d762ffd4ffaf39f372eb8561b8d491a11ace5a7884610424a8b40f95/regex-2017.04.05.tar.gz (601kB)\n",
            "\u001b[K     |████████████████████████████████| 604kB 13.4MB/s \n",
            "\u001b[?25hCollecting requests==2.21.0\n",
            "\u001b[?25l  Downloading https://files.pythonhosted.org/packages/7d/e3/20f3d364d6c8e5d2353c72a67778eb189176f08e873c9900e10c0287b84b/requests-2.21.0-py2.py3-none-any.whl (57kB)\n",
            "\u001b[K     |████████████████████████████████| 61kB 9.5MB/s \n",
            "\u001b[?25hCollecting tqdm==4.31.1\n",
            "\u001b[?25l  Downloading https://files.pythonhosted.org/packages/6c/4b/c38b5144cf167c4f52288517436ccafefe9dc01b8d1c190e18a6b154cd4a/tqdm-4.31.1-py2.py3-none-any.whl (48kB)\n",
            "\u001b[K     |████████████████████████████████| 51kB 8.8MB/s \n",
            "\u001b[?25hRequirement already satisfied: six in /usr/local/lib/python3.7/dist-packages (from fire>=0.1.3->-r requirements.txt (line 1)) (1.15.0)\n",
            "Requirement already satisfied: termcolor in /usr/local/lib/python3.7/dist-packages (from fire>=0.1.3->-r requirements.txt (line 1)) (1.1.0)\n",
            "Requirement already satisfied: certifi>=2017.4.17 in /usr/local/lib/python3.7/dist-packages (from requests==2.21.0->-r requirements.txt (line 3)) (2020.12.5)\n",
            "Requirement already satisfied: urllib3<1.25,>=1.21.1 in /usr/local/lib/python3.7/dist-packages (from requests==2.21.0->-r requirements.txt (line 3)) (1.24.3)\n",
            "Collecting idna<2.9,>=2.5\n",
            "\u001b[?25l  Downloading https://files.pythonhosted.org/packages/14/2c/cd551d81dbe15200be1cf41cd03869a46fe7226e7450af7a6545bfc474c9/idna-2.8-py2.py3-none-any.whl (58kB)\n",
            "\u001b[K     |████████████████████████████████| 61kB 9.3MB/s \n",
            "\u001b[?25hRequirement already satisfied: chardet<3.1.0,>=3.0.2 in /usr/local/lib/python3.7/dist-packages (from requests==2.21.0->-r requirements.txt (line 3)) (3.0.4)\n",
            "Building wheels for collected packages: fire, regex\n",
            "  Building wheel for fire (setup.py) ... \u001b[?25l\u001b[?25hdone\n",
            "  Created wheel for fire: filename=fire-0.4.0-py2.py3-none-any.whl size=115928 sha256=55dc77fc4857620faacbc16fdebca6a892e19e94a9618486dd53e68fbf4a7c44\n",
            "  Stored in directory: /root/.cache/pip/wheels/af/19/30/1ea0cad502dcb4e66ed5a690279628c827aea38bbbab75d5ed\n",
            "  Building wheel for regex (setup.py) ... \u001b[?25l\u001b[?25hdone\n",
            "  Created wheel for regex: filename=regex-2017.4.5-cp37-cp37m-linux_x86_64.whl size=534382 sha256=89b58777aadad4e2fb4b8e382f2eb1fbab9aff7f4d3879d8e62ccc3ec574df32\n",
            "  Stored in directory: /root/.cache/pip/wheels/75/07/38/3c16b529d50cb4e0cd3dbc7b75cece8a09c132692c74450b01\n",
            "Successfully built fire regex\n",
            "\u001b[31mERROR: spacy 2.2.4 has requirement tqdm<5.0.0,>=4.38.0, but you'll have tqdm 4.31.1 which is incompatible.\u001b[0m\n",
            "\u001b[31mERROR: google-colab 1.0.0 has requirement requests~=2.23.0, but you'll have requests 2.21.0 which is incompatible.\u001b[0m\n",
            "\u001b[31mERROR: fbprophet 0.7.1 has requirement tqdm>=4.36.1, but you'll have tqdm 4.31.1 which is incompatible.\u001b[0m\n",
            "\u001b[31mERROR: datascience 0.10.6 has requirement folium==0.2.1, but you'll have folium 0.8.3 which is incompatible.\u001b[0m\n",
            "Installing collected packages: fire, regex, idna, requests, tqdm\n",
            "  Found existing installation: regex 2019.12.20\n",
            "    Uninstalling regex-2019.12.20:\n",
            "      Successfully uninstalled regex-2019.12.20\n",
            "  Found existing installation: idna 2.10\n",
            "    Uninstalling idna-2.10:\n",
            "      Successfully uninstalled idna-2.10\n",
            "  Found existing installation: requests 2.23.0\n",
            "    Uninstalling requests-2.23.0:\n",
            "      Successfully uninstalled requests-2.23.0\n",
            "  Found existing installation: tqdm 4.41.1\n",
            "    Uninstalling tqdm-4.41.1:\n",
            "      Successfully uninstalled tqdm-4.41.1\n",
            "Successfully installed fire-0.4.0 idna-2.8 regex-2017.4.5 requests-2.21.0 tqdm-4.31.1\n"
          ],
          "name": "stdout"
        },
        {
          "output_type": "display_data",
          "data": {
            "application/vnd.colab-display-data+json": {
              "pip_warning": {
                "packages": [
                  "idna",
                  "requests"
                ]
              }
            }
          },
          "metadata": {
            "tags": []
          }
        }
      ]
    },
    {
      "cell_type": "code",
      "metadata": {
        "id": "pJdBvhx3LFe_",
        "colab": {
          "base_uri": "https://localhost:8080/"
        },
        "outputId": "b5fbf831-3e24-424b-f945-2b15d9b72068"
      },
      "source": [
        "# Restart Runtime 후에 여기에서 부터 실행하세요 \n",
        "import os\n",
        "os.chdir(\"gpt-2\")\n",
        "%tensorflow_version 1.x\n",
        "import tensorflow\n",
        "print(tensorflow.__version__)"
      ],
      "execution_count": 1,
      "outputs": [
        {
          "output_type": "stream",
          "text": [
            "TensorFlow 1.x selected.\n",
            "1.15.2\n"
          ],
          "name": "stdout"
        }
      ]
    },
    {
      "cell_type": "code",
      "metadata": {
        "id": "BKnR_7K51OZc"
      },
      "source": [
        "!export PYTHONIOENCODING=UTF-8"
      ],
      "execution_count": 2,
      "outputs": []
    },
    {
      "cell_type": "code",
      "metadata": {
        "colab": {
          "base_uri": "https://localhost:8080/"
        },
        "id": "I26uPCW71lUy",
        "outputId": "d12dd07b-199d-4d97-95e5-ec0cc74e8350"
      },
      "source": [
        "!python3 src/generate_unconditional_samples.py --model_name='124M' --nsamples=5 --top_k=40 --length=200 | tee samples"
      ],
      "execution_count": null,
      "outputs": [
        {
          "output_type": "stream",
          "text": [
            "WARNING:tensorflow:From src/generate_unconditional_samples.py:54: The name tf.Session is deprecated. Please use tf.compat.v1.Session instead.\n",
            "\n",
            "2021-03-02 14:51:31.815242: I tensorflow/stream_executor/platform/default/dso_loader.cc:44] Successfully opened dynamic library libcuda.so.1\n",
            "2021-03-02 14:51:31.838148: I tensorflow/stream_executor/cuda/cuda_gpu_executor.cc:983] successful NUMA node read from SysFS had negative value (-1), but there must be at least one NUMA node, so returning NUMA node zero\n",
            "2021-03-02 14:51:31.838899: I tensorflow/core/common_runtime/gpu/gpu_device.cc:1639] Found device 0 with properties: \n",
            "name: Tesla K80 major: 3 minor: 7 memoryClockRate(GHz): 0.8235\n",
            "pciBusID: 0000:00:04.0\n",
            "2021-03-02 14:51:31.839197: I tensorflow/stream_executor/platform/default/dso_loader.cc:44] Successfully opened dynamic library libcudart.so.10.1\n",
            "2021-03-02 14:51:31.840842: I tensorflow/stream_executor/platform/default/dso_loader.cc:44] Successfully opened dynamic library libcublas.so.10\n",
            "2021-03-02 14:51:31.842481: I tensorflow/stream_executor/platform/default/dso_loader.cc:44] Successfully opened dynamic library libcufft.so.10\n",
            "2021-03-02 14:51:31.842816: I tensorflow/stream_executor/platform/default/dso_loader.cc:44] Successfully opened dynamic library libcurand.so.10\n",
            "2021-03-02 14:51:31.844486: I tensorflow/stream_executor/platform/default/dso_loader.cc:44] Successfully opened dynamic library libcusolver.so.10\n",
            "2021-03-02 14:51:31.845235: I tensorflow/stream_executor/platform/default/dso_loader.cc:44] Successfully opened dynamic library libcusparse.so.10\n",
            "2021-03-02 14:51:31.848851: I tensorflow/stream_executor/platform/default/dso_loader.cc:44] Successfully opened dynamic library libcudnn.so.7\n",
            "2021-03-02 14:51:31.848973: I tensorflow/stream_executor/cuda/cuda_gpu_executor.cc:983] successful NUMA node read from SysFS had negative value (-1), but there must be at least one NUMA node, so returning NUMA node zero\n",
            "2021-03-02 14:51:31.849822: I tensorflow/stream_executor/cuda/cuda_gpu_executor.cc:983] successful NUMA node read from SysFS had negative value (-1), but there must be at least one NUMA node, so returning NUMA node zero\n",
            "2021-03-02 14:51:31.850584: I tensorflow/core/common_runtime/gpu/gpu_device.cc:1767] Adding visible gpu devices: 0\n",
            "2021-03-02 14:51:31.856250: I tensorflow/core/platform/profile_utils/cpu_utils.cc:94] CPU Frequency: 2299995000 Hz\n",
            "2021-03-02 14:51:31.856579: I tensorflow/compiler/xla/service/service.cc:168] XLA service 0x558710b4af40 initialized for platform Host (this does not guarantee that XLA will be used). Devices:\n",
            "2021-03-02 14:51:31.856647: I tensorflow/compiler/xla/service/service.cc:176]   StreamExecutor device (0): Host, Default Version\n",
            "2021-03-02 14:51:31.910894: I tensorflow/stream_executor/cuda/cuda_gpu_executor.cc:983] successful NUMA node read from SysFS had negative value (-1), but there must be at least one NUMA node, so returning NUMA node zero\n",
            "2021-03-02 14:51:31.911854: I tensorflow/compiler/xla/service/service.cc:168] XLA service 0x558710b4a840 initialized for platform CUDA (this does not guarantee that XLA will be used). Devices:\n",
            "2021-03-02 14:51:31.911888: I tensorflow/compiler/xla/service/service.cc:176]   StreamExecutor device (0): Tesla K80, Compute Capability 3.7\n",
            "2021-03-02 14:51:31.912065: I tensorflow/stream_executor/cuda/cuda_gpu_executor.cc:983] successful NUMA node read from SysFS had negative value (-1), but there must be at least one NUMA node, so returning NUMA node zero\n",
            "2021-03-02 14:51:31.912760: I tensorflow/core/common_runtime/gpu/gpu_device.cc:1639] Found device 0 with properties: \n",
            "name: Tesla K80 major: 3 minor: 7 memoryClockRate(GHz): 0.8235\n",
            "pciBusID: 0000:00:04.0\n",
            "2021-03-02 14:51:31.912831: I tensorflow/stream_executor/platform/default/dso_loader.cc:44] Successfully opened dynamic library libcudart.so.10.1\n",
            "2021-03-02 14:51:31.912872: I tensorflow/stream_executor/platform/default/dso_loader.cc:44] Successfully opened dynamic library libcublas.so.10\n",
            "2021-03-02 14:51:31.912913: I tensorflow/stream_executor/platform/default/dso_loader.cc:44] Successfully opened dynamic library libcufft.so.10\n",
            "2021-03-02 14:51:31.912955: I tensorflow/stream_executor/platform/default/dso_loader.cc:44] Successfully opened dynamic library libcurand.so.10\n",
            "2021-03-02 14:51:31.913015: I tensorflow/stream_executor/platform/default/dso_loader.cc:44] Successfully opened dynamic library libcusolver.so.10\n",
            "2021-03-02 14:51:31.913052: I tensorflow/stream_executor/platform/default/dso_loader.cc:44] Successfully opened dynamic library libcusparse.so.10\n",
            "2021-03-02 14:51:31.913104: I tensorflow/stream_executor/platform/default/dso_loader.cc:44] Successfully opened dynamic library libcudnn.so.7\n",
            "2021-03-02 14:51:31.913206: I tensorflow/stream_executor/cuda/cuda_gpu_executor.cc:983] successful NUMA node read from SysFS had negative value (-1), but there must be at least one NUMA node, so returning NUMA node zero\n",
            "2021-03-02 14:51:31.913885: I tensorflow/stream_executor/cuda/cuda_gpu_executor.cc:983] successful NUMA node read from SysFS had negative value (-1), but there must be at least one NUMA node, so returning NUMA node zero\n",
            "2021-03-02 14:51:31.914606: I tensorflow/core/common_runtime/gpu/gpu_device.cc:1767] Adding visible gpu devices: 0\n",
            "2021-03-02 14:51:31.914670: I tensorflow/stream_executor/platform/default/dso_loader.cc:44] Successfully opened dynamic library libcudart.so.10.1\n",
            "2021-03-02 14:51:31.916167: I tensorflow/core/common_runtime/gpu/gpu_device.cc:1180] Device interconnect StreamExecutor with strength 1 edge matrix:\n",
            "2021-03-02 14:51:31.916201: I tensorflow/core/common_runtime/gpu/gpu_device.cc:1186]      0 \n",
            "2021-03-02 14:51:31.916218: I tensorflow/core/common_runtime/gpu/gpu_device.cc:1199] 0:   N \n",
            "2021-03-02 14:51:31.916352: I tensorflow/stream_executor/cuda/cuda_gpu_executor.cc:983] successful NUMA node read from SysFS had negative value (-1), but there must be at least one NUMA node, so returning NUMA node zero\n",
            "2021-03-02 14:51:31.917316: I tensorflow/stream_executor/cuda/cuda_gpu_executor.cc:983] successful NUMA node read from SysFS had negative value (-1), but there must be at least one NUMA node, so returning NUMA node zero\n",
            "2021-03-02 14:51:31.917986: W tensorflow/core/common_runtime/gpu/gpu_bfc_allocator.cc:39] Overriding allow_growth setting because the TF_FORCE_GPU_ALLOW_GROWTH environment variable is set. Original config value was 0.\n",
            "2021-03-02 14:51:31.918086: I tensorflow/core/common_runtime/gpu/gpu_device.cc:1325] Created TensorFlow device (/job:localhost/replica:0/task:0/device:GPU:0 with 10813 MB memory) -> physical GPU (device: 0, name: Tesla K80, pci bus id: 0000:00:04.0, compute capability: 3.7)\n",
            "WARNING:tensorflow:From src/generate_unconditional_samples.py:56: The name tf.set_random_seed is deprecated. Please use tf.compat.v1.set_random_seed instead.\n",
            "\n",
            "WARNING:tensorflow:From /content/gpt-2/src/sample.py:51: The name tf.AUTO_REUSE is deprecated. Please use tf.compat.v1.AUTO_REUSE instead.\n",
            "\n",
            "WARNING:tensorflow:From /content/gpt-2/src/model.py:148: The name tf.variable_scope is deprecated. Please use tf.compat.v1.variable_scope instead.\n",
            "\n",
            "WARNING:tensorflow:From /content/gpt-2/src/model.py:152: The name tf.get_variable is deprecated. Please use tf.compat.v1.get_variable instead.\n",
            "\n",
            "WARNING:tensorflow:From /content/gpt-2/src/model.py:36: The name tf.rsqrt is deprecated. Please use tf.math.rsqrt instead.\n",
            "\n",
            "WARNING:tensorflow:From /content/gpt-2/src/sample.py:64: to_float (from tensorflow.python.ops.math_ops) is deprecated and will be removed in a future version.\n",
            "Instructions for updating:\n",
            "Use `tf.cast` instead.\n",
            "WARNING:tensorflow:From /content/gpt-2/src/sample.py:16: where (from tensorflow.python.ops.array_ops) is deprecated and will be removed in a future version.\n",
            "Instructions for updating:\n",
            "Use tf.where in 2.0, which has the same broadcast rule as np.where\n",
            "WARNING:tensorflow:From /content/gpt-2/src/sample.py:67: multinomial (from tensorflow.python.ops.random_ops) is deprecated and will be removed in a future version.\n",
            "Instructions for updating:\n",
            "Use `tf.random.categorical` instead.\n",
            "WARNING:tensorflow:From src/generate_unconditional_samples.py:65: The name tf.train.Saver is deprecated. Please use tf.compat.v1.train.Saver instead.\n",
            "\n",
            "2021-03-02 14:51:38.648369: I tensorflow/stream_executor/platform/default/dso_loader.cc:44] Successfully opened dynamic library libcublas.so.10\n",
            "======================================== SAMPLE 1 ========================================\n",
            "\n",
            "In 2015, the city of Chicago made it very clear that its top priority after a recent economic downturn wasn't the homeless but the jobless to begin with. To make matters worse, the city had to move millions of people to new cities within a decade, which is a huge problem on its own.\n",
            "\n",
            "According to Chicago's City Council, the state's unemployment rate is the highest in the nation, making it a problem for the poor. And despite efforts by the federal government to turn Chicago into a magnet for high-income communities, a huge lack of jobs has caused the city to cut more public benefits over the past five years than it cuts elsewhere in the country or other parts of the country.\n",
            "\n",
            "The City of Chicago has also struggled to get its homeless population up to the next level. According to public information and a 2015 report by the National Association of Community Organizations for the Homeless, up to half of Chicago's homeless are \"low income\" or have no access to housing\n",
            "======================================== SAMPLE 2 ========================================\n",
            "\"Our goal is a way to support our fans in 2017,\" said Mark Murphy, CEO of Twitch. \"The League of Legends World Championships will go a long way toward that.\"\n",
            "\n",
            "As for other games in the tournament, \"We continue to listen,\" said Patrick Murphy, VP of Marketing at Twitch, \"to our fans' input on where to build. This is our second tournament in five years and our biggest challenge with Overwatch has been getting back on track.\"\n",
            "\n",
            "More Gameplay\n",
            "\n",
            "As part of the Overwatch League tournament, Twitch, the streaming technology company behind the game, launched its official team-wide roster update. Players with the Overwatch League roster are invited to participate in the team-wide tournament, starting March 18. Players with the team roster will earn experience points based on their performance as a match winner. The team-wide event will run concurrently with the League of Legends World Championship.\n",
            "\n",
            "\"We really feel the stream of games is the best tool for us to\n",
            "======================================== SAMPLE 3 ========================================\n",
            "\n",
            "The following was originally posted in September 2004, and has been updated at the behest of the author or in response to a request for permission.\n",
            "\n",
            "The following pages were originally published in 1988.\n",
            "\n",
            "\n",
            "\"The Truth Is In The Dark About Everything I Know About America's Most Powerful People\" (Part 2)\n",
            "\n",
            "\"The American Media\" (Part 1)\n",
            "\n",
            "\n",
            "\"If You're Trying To Influence A President, Don't Listen To The Press\" (Part 1)\n",
            "\n",
            "\"When Are You Expecting To Be President?\" \"I Want You To Say It Right Here\" (Part 2)\n",
            "\n",
            "\"When Are You Expecting To Be President?\" \"I Want You To Say It Right Here\" (Part 3)\n",
            "\n",
            "\"I Am A Liberal, And Some Might Like To Teach Them To Listen\" (Part 3)\n",
            "\n",
            "\n",
            "\"When I Think About the American Family\" (Part 1)\n",
            "\n",
            "\"If the Left's Right For All of Its Wrong\n",
            "======================================== SAMPLE 4 ========================================\n",
            "I don't think anybody has made any sense from this viewpoint. The point is the problem is that I personally think these are just \"unfortunate\" decisions and not just those made by the person. They're not the \"unfortunate\" decisions, and they're not the actions that are the same.\n",
            "\n",
            "\n",
            "I know you're talking about all the things that you just read, but I feel like you've really misunderstood my argument, which is that these are the actions that are right and that I have to say what is the correct one... I think it's a nice thing to do. But it's a very difficult issue to solve in this country, and I think that's been a very difficult problem going around to the people.\n",
            "\n",
            "\n",
            "And for many years as an educator, I've worked on a lot of research, and this is a good example of research that says that kids are not just \"unfortunate,\" because they're not getting more opportunities to learn.\n",
            "======================================== SAMPLE 5 ========================================\n",
            "2 1.75 1.75 I will be waiting for the next week\n",
            "\n",
            "3 1.75 1.75 I plan to play every single map in this pack for 2 weeks\n",
            "\n",
            "4 1.75 1.75 I will run the next 1st map at ~10pm\n",
            "\n",
            "5 1.75 1.75 I will keep going until my next post.<|endoftext|>MADISON — Two men and their teenage daughter were arrested Monday after a police officer said she and their daughter were \"stumbling in the dark\" when a white van drove up and jumped them.\n",
            "\n",
            "Officers arrested the girls at a home in the 600 block of N. E. East at 6:35 p.m. The teens suffered injuries to their heads, wrists and feet. The other two girls were taken at knife point, but weren't hurt.\n",
            "\n",
            "Police on the scene said the van approached the teens and then began jumping them, and police officers \"were alerted by an out-of\n"
          ],
          "name": "stdout"
        }
      ]
    },
    {
      "cell_type": "code",
      "metadata": {
        "id": "zSR1DnO23ZjT",
        "colab": {
          "base_uri": "https://localhost:8080/"
        },
        "outputId": "8a0a5983-01e1-4630-fffe-dd13216763e2"
      },
      "source": [
        "!python3 src/generate_unconditional_samples.py -- --help"
      ],
      "execution_count": null,
      "outputs": [
        {
          "output_type": "stream",
          "text": [
            "\u001b[1mNAME\u001b[0m\n",
            "    generate_unconditional_samples.py - Run the sample_model :model_name=124M : String, which model to use :seed=None : Integer seed for random number generators, fix seed to reproduce results :nsamples=0 : Number of samples to return, if 0, continues to generate samples indefinately. :batch_size=1 : Number of batches (only affects speed/memory). :length=None : Number of tokens in generated text, if None (default), is determined by model hyperparameters :temperature=1 : Float value controlling randomness in boltzmann distribution. Lower temperature results in less random completions. As the temperature approaches zero, the model will become deterministic and repetitive. Higher temperature results in more random completions. :top_k=0 : Integer value controlling diversity. 1 means only 1 word is considered for each step (token), resulting in deterministic completions, while 40 means 40 words are considered at each step. 0 (default) is a special setting meaning no restrictions. 40 generally is a good value. :models_dir : path to parent folder containing model subfolders (i.e. contains the <model_name> folder)\n",
            "\n",
            "\u001b[1mSYNOPSIS\u001b[0m\n",
            "    generate_unconditional_samples.py <flags>\n",
            "\n",
            "\u001b[1mDESCRIPTION\u001b[0m\n",
            "    Run the sample_model :model_name=124M : String, which model to use :seed=None : Integer seed for random number generators, fix seed to reproduce results :nsamples=0 : Number of samples to return, if 0, continues to generate samples indefinately. :batch_size=1 : Number of batches (only affects speed/memory). :length=None : Number of tokens in generated text, if None (default), is determined by model hyperparameters :temperature=1 : Float value controlling randomness in boltzmann distribution. Lower temperature results in less random completions. As the temperature approaches zero, the model will become deterministic and repetitive. Higher temperature results in more random completions. :top_k=0 : Integer value controlling diversity. 1 means only 1 word is considered for each step (token), resulting in deterministic completions, while 40 means 40 words are considered at each step. 0 (default) is a special setting meaning no restrictions. 40 generally is a good value. :models_dir : path to parent folder containing model subfolders (i.e. contains the <model_name> folder)\n",
            "\n",
            "\u001b[1mFLAGS\u001b[0m\n",
            "    --model_name=\u001b[4mMODEL_NAME\u001b[0m\n",
            "        Default: '124M'\n",
            "    --seed=\u001b[4mSEED\u001b[0m\n",
            "        Type: Optional[]\n",
            "        Default: None\n",
            "    --nsamples=\u001b[4mNSAMPLES\u001b[0m\n",
            "        Default: 0\n",
            "    --batch_size=\u001b[4mBATCH_SIZE\u001b[0m\n",
            "        Default: 1\n",
            "    --length=\u001b[4mLENGTH\u001b[0m\n",
            "        Type: Optional[]\n",
            "        Default: None\n",
            "    --temperature=\u001b[4mTEMPERATURE\u001b[0m\n",
            "        Default: 1\n",
            "    --top_k=\u001b[4mTOP_K\u001b[0m\n",
            "        Default: 0\n",
            "    --top_p=\u001b[4mTOP_P\u001b[0m\n",
            "        Default: 1\n",
            "    --models_dir=\u001b[4mMODELS_DIR\u001b[0m\n",
            "        Default: 'models'\n"
          ],
          "name": "stdout"
        }
      ]
    },
    {
      "cell_type": "code",
      "metadata": {
        "id": "WD7X7RgH1yrw",
        "colab": {
          "base_uri": "https://localhost:8080/"
        },
        "outputId": "c94b2f9f-d4f0-4033-fd67-660dca3cbc11"
      },
      "source": [
        "!python3 src/interactive_conditional_samples.py --model_name='1558M' --nsamples=10 --top_k=300 --length=50"
      ],
      "execution_count": 12,
      "outputs": [
        {
          "output_type": "stream",
          "text": [
            "WARNING:tensorflow:From src/interactive_conditional_samples.py:57: The name tf.Session is deprecated. Please use tf.compat.v1.Session instead.\n",
            "\n",
            "2021-03-03 12:12:23.660720: I tensorflow/stream_executor/platform/default/dso_loader.cc:44] Successfully opened dynamic library libcuda.so.1\n",
            "2021-03-03 12:12:23.694109: I tensorflow/stream_executor/cuda/cuda_gpu_executor.cc:983] successful NUMA node read from SysFS had negative value (-1), but there must be at least one NUMA node, so returning NUMA node zero\n",
            "2021-03-03 12:12:23.694684: I tensorflow/core/common_runtime/gpu/gpu_device.cc:1639] Found device 0 with properties: \n",
            "name: Tesla T4 major: 7 minor: 5 memoryClockRate(GHz): 1.59\n",
            "pciBusID: 0000:00:04.0\n",
            "2021-03-03 12:12:23.697183: I tensorflow/stream_executor/platform/default/dso_loader.cc:44] Successfully opened dynamic library libcudart.so.10.1\n",
            "2021-03-03 12:12:23.706273: I tensorflow/stream_executor/platform/default/dso_loader.cc:44] Successfully opened dynamic library libcublas.so.10\n",
            "2021-03-03 12:12:23.713244: I tensorflow/stream_executor/platform/default/dso_loader.cc:44] Successfully opened dynamic library libcufft.so.10\n",
            "2021-03-03 12:12:23.718101: I tensorflow/stream_executor/platform/default/dso_loader.cc:44] Successfully opened dynamic library libcurand.so.10\n",
            "2021-03-03 12:12:23.725596: I tensorflow/stream_executor/platform/default/dso_loader.cc:44] Successfully opened dynamic library libcusolver.so.10\n",
            "2021-03-03 12:12:23.727881: I tensorflow/stream_executor/platform/default/dso_loader.cc:44] Successfully opened dynamic library libcusparse.so.10\n",
            "2021-03-03 12:12:23.739146: I tensorflow/stream_executor/platform/default/dso_loader.cc:44] Successfully opened dynamic library libcudnn.so.7\n",
            "2021-03-03 12:12:23.739358: I tensorflow/stream_executor/cuda/cuda_gpu_executor.cc:983] successful NUMA node read from SysFS had negative value (-1), but there must be at least one NUMA node, so returning NUMA node zero\n",
            "2021-03-03 12:12:23.740024: I tensorflow/stream_executor/cuda/cuda_gpu_executor.cc:983] successful NUMA node read from SysFS had negative value (-1), but there must be at least one NUMA node, so returning NUMA node zero\n",
            "2021-03-03 12:12:23.740541: I tensorflow/core/common_runtime/gpu/gpu_device.cc:1767] Adding visible gpu devices: 0\n",
            "2021-03-03 12:12:23.744935: I tensorflow/core/platform/profile_utils/cpu_utils.cc:94] CPU Frequency: 2199995000 Hz\n",
            "2021-03-03 12:12:23.745124: I tensorflow/compiler/xla/service/service.cc:168] XLA service 0x556814357480 initialized for platform Host (this does not guarantee that XLA will be used). Devices:\n",
            "2021-03-03 12:12:23.745153: I tensorflow/compiler/xla/service/service.cc:176]   StreamExecutor device (0): Host, Default Version\n",
            "2021-03-03 12:12:23.856079: I tensorflow/stream_executor/cuda/cuda_gpu_executor.cc:983] successful NUMA node read from SysFS had negative value (-1), but there must be at least one NUMA node, so returning NUMA node zero\n",
            "2021-03-03 12:12:23.856785: I tensorflow/compiler/xla/service/service.cc:168] XLA service 0x556814357d40 initialized for platform CUDA (this does not guarantee that XLA will be used). Devices:\n",
            "2021-03-03 12:12:23.856819: I tensorflow/compiler/xla/service/service.cc:176]   StreamExecutor device (0): Tesla T4, Compute Capability 7.5\n",
            "2021-03-03 12:12:23.857006: I tensorflow/stream_executor/cuda/cuda_gpu_executor.cc:983] successful NUMA node read from SysFS had negative value (-1), but there must be at least one NUMA node, so returning NUMA node zero\n",
            "2021-03-03 12:12:23.857536: I tensorflow/core/common_runtime/gpu/gpu_device.cc:1639] Found device 0 with properties: \n",
            "name: Tesla T4 major: 7 minor: 5 memoryClockRate(GHz): 1.59\n",
            "pciBusID: 0000:00:04.0\n",
            "2021-03-03 12:12:23.857599: I tensorflow/stream_executor/platform/default/dso_loader.cc:44] Successfully opened dynamic library libcudart.so.10.1\n",
            "2021-03-03 12:12:23.857624: I tensorflow/stream_executor/platform/default/dso_loader.cc:44] Successfully opened dynamic library libcublas.so.10\n",
            "2021-03-03 12:12:23.857663: I tensorflow/stream_executor/platform/default/dso_loader.cc:44] Successfully opened dynamic library libcufft.so.10\n",
            "2021-03-03 12:12:23.857867: I tensorflow/stream_executor/platform/default/dso_loader.cc:44] Successfully opened dynamic library libcurand.so.10\n",
            "2021-03-03 12:12:23.857922: I tensorflow/stream_executor/platform/default/dso_loader.cc:44] Successfully opened dynamic library libcusolver.so.10\n",
            "2021-03-03 12:12:23.857948: I tensorflow/stream_executor/platform/default/dso_loader.cc:44] Successfully opened dynamic library libcusparse.so.10\n",
            "2021-03-03 12:12:23.857983: I tensorflow/stream_executor/platform/default/dso_loader.cc:44] Successfully opened dynamic library libcudnn.so.7\n",
            "2021-03-03 12:12:23.858067: I tensorflow/stream_executor/cuda/cuda_gpu_executor.cc:983] successful NUMA node read from SysFS had negative value (-1), but there must be at least one NUMA node, so returning NUMA node zero\n",
            "2021-03-03 12:12:23.858629: I tensorflow/stream_executor/cuda/cuda_gpu_executor.cc:983] successful NUMA node read from SysFS had negative value (-1), but there must be at least one NUMA node, so returning NUMA node zero\n",
            "2021-03-03 12:12:23.859147: I tensorflow/core/common_runtime/gpu/gpu_device.cc:1767] Adding visible gpu devices: 0\n",
            "2021-03-03 12:12:23.859204: I tensorflow/stream_executor/platform/default/dso_loader.cc:44] Successfully opened dynamic library libcudart.so.10.1\n",
            "2021-03-03 12:12:23.860332: I tensorflow/core/common_runtime/gpu/gpu_device.cc:1180] Device interconnect StreamExecutor with strength 1 edge matrix:\n",
            "2021-03-03 12:12:23.860358: I tensorflow/core/common_runtime/gpu/gpu_device.cc:1186]      0 \n",
            "2021-03-03 12:12:23.860376: I tensorflow/core/common_runtime/gpu/gpu_device.cc:1199] 0:   N \n",
            "2021-03-03 12:12:23.860485: I tensorflow/stream_executor/cuda/cuda_gpu_executor.cc:983] successful NUMA node read from SysFS had negative value (-1), but there must be at least one NUMA node, so returning NUMA node zero\n",
            "2021-03-03 12:12:23.861070: I tensorflow/stream_executor/cuda/cuda_gpu_executor.cc:983] successful NUMA node read from SysFS had negative value (-1), but there must be at least one NUMA node, so returning NUMA node zero\n",
            "2021-03-03 12:12:23.861581: W tensorflow/core/common_runtime/gpu/gpu_bfc_allocator.cc:39] Overriding allow_growth setting because the TF_FORCE_GPU_ALLOW_GROWTH environment variable is set. Original config value was 0.\n",
            "2021-03-03 12:12:23.861620: I tensorflow/core/common_runtime/gpu/gpu_device.cc:1325] Created TensorFlow device (/job:localhost/replica:0/task:0/device:GPU:0 with 14257 MB memory) -> physical GPU (device: 0, name: Tesla T4, pci bus id: 0000:00:04.0, compute capability: 7.5)\n",
            "WARNING:tensorflow:From src/interactive_conditional_samples.py:58: The name tf.placeholder is deprecated. Please use tf.compat.v1.placeholder instead.\n",
            "\n",
            "WARNING:tensorflow:From src/interactive_conditional_samples.py:60: The name tf.set_random_seed is deprecated. Please use tf.compat.v1.set_random_seed instead.\n",
            "\n",
            "WARNING:tensorflow:From /content/gpt-2/src/sample.py:51: The name tf.AUTO_REUSE is deprecated. Please use tf.compat.v1.AUTO_REUSE instead.\n",
            "\n",
            "WARNING:tensorflow:From /content/gpt-2/src/model.py:148: The name tf.variable_scope is deprecated. Please use tf.compat.v1.variable_scope instead.\n",
            "\n",
            "WARNING:tensorflow:From /content/gpt-2/src/model.py:152: The name tf.get_variable is deprecated. Please use tf.compat.v1.get_variable instead.\n",
            "\n",
            "WARNING:tensorflow:From /content/gpt-2/src/model.py:36: The name tf.rsqrt is deprecated. Please use tf.math.rsqrt instead.\n",
            "\n",
            "WARNING:tensorflow:From /content/gpt-2/src/sample.py:64: to_float (from tensorflow.python.ops.math_ops) is deprecated and will be removed in a future version.\n",
            "Instructions for updating:\n",
            "Use `tf.cast` instead.\n",
            "WARNING:tensorflow:From /content/gpt-2/src/sample.py:16: where (from tensorflow.python.ops.array_ops) is deprecated and will be removed in a future version.\n",
            "Instructions for updating:\n",
            "Use tf.where in 2.0, which has the same broadcast rule as np.where\n",
            "WARNING:tensorflow:From /content/gpt-2/src/sample.py:67: multinomial (from tensorflow.python.ops.random_ops) is deprecated and will be removed in a future version.\n",
            "Instructions for updating:\n",
            "Use `tf.random.categorical` instead.\n",
            "WARNING:tensorflow:From src/interactive_conditional_samples.py:68: The name tf.train.Saver is deprecated. Please use tf.compat.v1.train.Saver instead.\n",
            "\n",
            "Model prompt >>> [Tony fully suiting up in the Mark II.] Tony Stark: JARVIS, are you there? JARVIS: At your service, sir. Tony Stark: Engage heads-up display. JARVIS: Check. Tony Stark: Import all preferences from home interface. JARVIS: Will do, sir. Tony Stark: All right, what do you say? JARVIS: I have indeed been uploaded, sir. We're online and ready. Tony Stark: Can we start the virtual walk-around? JARVIS: Importing preferences and calibrating virtual environment. Tony Stark: Do a check on control surfaces JARVIS: As you wish. [The full suit is shown.] Test complete. Preparing to power down and begin diagnostics. Tony Stark: Uh, yeah. Tell you what. Do a weather and ATC check. Start listening in on ground control. JARVIS: Sir, there are still terabytes of calculations needed before an actual flight is... Tony Stark: JARVIS! Sometimes you got to run before you can walk. Ready? In three, two, one. [Begins hovering and flies out of the garage into the sky.] Handles like a dream. All right, let's see what this thing can do. JARVIS:\n",
            "2021-03-03 12:20:59.311150: I tensorflow/stream_executor/platform/default/dso_loader.cc:44] Successfully opened dynamic library libcublas.so.10\n",
            "======================================== SAMPLE 1 ========================================\n",
            " Yes, sir. Testing, Tony. [He hangs a check in one of the screens.] Mr. Bosello is our pilot. I've detected a current landing distance of 30,000 meters. That'll do. Tony Stark: Clear.\n",
            "======================================== SAMPLE 2 ========================================\n",
            " Mister Stark, for the best results, recommend a minimal set of free flight parameters. Iron Man: All right, let's go... Tony Stark: ...[turns around and flies away at supersonic speed.] JARVIS: With absolutely\n",
            "======================================== SAMPLE 3 ========================================\n",
            " Sir, initial visual reception of base is dark. Tony Stark: Still a little morning haze, huh, but this thing's got capability. JARVIS: I...can't see a thing. Stand by. [JARVIS performs a su\n",
            "======================================== SAMPLE 4 ========================================\n",
            " Sir, do you have any guidance? [They turn to JARVIS.] Why, probably lots and lots and lots of guidance. As we know from our previous attempts to fly here, you've got a pretty in-depth understanding about what makes\n",
            "======================================== SAMPLE 5 ========================================\n",
            " Negative, sir. [The Stark's head moves out of the virtual environment.] Tony Stark: JARVIS! JARVIS: Sir, please restore my interface console.\n",
            "\n",
            "A Perfect Storm [3.19] [ edit ]\n",
            "\n",
            "\n",
            "======================================== SAMPLE 6 ========================================\n",
            " Oh, this is a sensation you never knew you wanted. Tony Stark: [Goes to a control panel on the back of the suit] Power-up button, E-1-1-5. JARVIS: Attention. Attention.\n",
            "======================================== SAMPLE 7 ========================================\n",
            " Sir, our own artificial intelligence has... reached a security level which requires removal. We cannot upload it. They will never... Tony Stark: Let them be. [Pauses as he does a check on aeroplane controls.] Ummm... [\n",
            "======================================== SAMPLE 8 ========================================\n",
            " Sir, I'm reading you well. What's your flight plan for the next half hour? Tony Stark: Hey, give my regards to that guy in the boardroom who lost to me the whole time I was in the air. I say he\n",
            "======================================== SAMPLE 9 ========================================\n",
            " We are ready, sir. Tony Stark: How about a little performance analysis? [With JARVIS' help, he finds out that his suit can fly at nearly 400 mph. He finishes the rest of the walk-around analysis and goes to\n",
            "======================================== SAMPLE 10 ========================================\n",
            " A flight plan seems probable. Assuming recovery in contact, you should be able to get clear, just north of 50.6. [Tony's virtual cockpit is now shown, displaying a map with the satellite. He flies the plane accordingly.] JAR\n",
            "================================================================================\n",
            "Model prompt >>> Traceback (most recent call last):\n",
            "  File \"/usr/lib/python3.7/contextlib.py\", line 130, in __exit__\n",
            "    self.gen.throw(type, value, traceback)\n",
            "  File \"/tensorflow-1.15.2/python3.7/tensorflow_core/python/framework/ops.py\", line 5480, in get_controller\n",
            "    yield g\n",
            "  File \"src/interactive_conditional_samples.py\", line 73, in interact_model\n",
            "    raw_text = input(\"Model prompt >>> \")\n",
            "KeyboardInterrupt\n",
            "\n",
            "During handling of the above exception, another exception occurred:\n",
            "\n",
            "Traceback (most recent call last):\n",
            "  File \"src/interactive_conditional_samples.py\", line 91, in <module>\n",
            "    fire.Fire(interact_model)\n",
            "  File \"/usr/local/lib/python3.7/dist-packages/fire/core.py\", line 141, in Fire\n",
            "    component_trace = _Fire(component, args, parsed_flag_args, context, name)\n",
            "  File \"/usr/local/lib/python3.7/dist-packages/fire/core.py\", line 471, in _Fire\n",
            "    target=component.__name__)\n",
            "  File \"/usr/local/lib/python3.7/dist-packages/fire/core.py\", line 681, in _CallAndUpdateTrace\n",
            "    component = fn(*varargs, **kwargs)\n",
            "  File \"src/interactive_conditional_samples.py\", line 88, in interact_model\n",
            "    print(\"=\" * 80)\n",
            "  File \"/tensorflow-1.15.2/python3.7/tensorflow_core/python/client/session.py\", line 1633, in __exit__\n",
            "    close_thread.start()\n",
            "  File \"/usr/lib/python3.7/threading.py\", line 857, in start\n",
            "    self._started.wait()\n",
            "  File \"/usr/lib/python3.7/threading.py\", line 552, in wait\n",
            "    signaled = self._cond.wait(timeout)\n",
            "  File \"/usr/lib/python3.7/threading.py\", line 296, in wait\n",
            "    waiter.acquire()\n",
            "KeyboardInterrupt\n"
          ],
          "name": "stdout"
        }
      ]
    },
    {
      "cell_type": "code",
      "metadata": {
        "id": "4mGwCv_ObQia"
      },
      "source": [
        ""
      ],
      "execution_count": null,
      "outputs": []
    }
  ]
}