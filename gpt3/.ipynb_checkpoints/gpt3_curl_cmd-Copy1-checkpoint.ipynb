{
 "cells": [
  {
   "cell_type": "markdown",
   "metadata": {},
   "source": [
    "# OpenAI GPT-3"
   ]
  },
  {
   "cell_type": "markdown",
   "metadata": {},
   "source": [
    "## OpenAI GPT-3 API 사용하기"
   ]
  },
  {
   "cell_type": "markdown",
   "metadata": {},
   "source": [
    "### 1. 질의 응답 추론"
   ]
  },
  {
   "cell_type": "code",
   "execution_count": null,
   "metadata": {},
   "outputs": [],
   "source": [
    "# 간단한 curl 명령어로 Text-in 형태의 질의를 입력\n",
    "!curl -s -u :$OPENAI_API_KEY    -H 'Content-Type: application/json' https://api.openai.com/v1/completions -d '{ \\\n",
    "     \"model\": \"davinci\", \\\n",
    "     \"temperature\": 0, \\\n",
    "     \"stop\": \"\\n\", \\\n",
    "     \"prompt\": \" Q: What is human life expectancy in the United States? \\\n",
    "                A: Human life expectancy in the United States is 78 years. \\\n",
    "\\\n",
    "                Q: Who was president of the United States in 1955? \\\n",
    "                A: Dwight D. Eisenhower was president of the United States in 1955. \\\n",
    "\\\n",
    "                Q: What party did he belong to? \\\n",
    "                A: He belonged to the Republican Party. \\\n",
    "\\\n",
    "                Q: Who was president of the United States before George W. Bush? \\\n",
    "                A: Bill Clinton was president of the United States before George W. Bush. \\\n",
    "\\\n",
    "                Q: Who won the World Series in 1995? \\\n",
    "                A: The Atlanta Braves won the World Series in 1995. \\\n",
    "\\\n",
    "                Q: What year was the first fax sent?\" \\\n",
    "}’"
   ]
  },
  {
   "cell_type": "markdown",
   "metadata": {},
   "source": [
    "### API 응답 결과\n",
    "```\n",
    "{\n",
    "    \"choices\": [\n",
    "        {\n",
    "            \"finish_reason\": \"stop\",\n",
    "            \"index\": 0,\n",
    "            \"logprobs\": null,\n",
    "            \"text\": \" The first fax was sent in 1843.\"\n",
    "        }\t\n",
    "    ],\n",
    "    \"created\": 1591523427,\n",
    "    \"id\": \"cmpl-QeDrZaFYRxp8gWuMXx6RtBar\",\n",
    "    \"model\": \"davinci:2020-05-03\",\n",
    "    \"object\": \"completion\"\n",
    "}\n",
    "```"
   ]
  },
  {
   "cell_type": "markdown",
   "metadata": {},
   "source": [
    "### 2. 텍스트 생성(Text Generation)"
   ]
  },
  {
   "cell_type": "code",
   "execution_count": null,
   "metadata": {},
   "outputs": [],
   "source": [
    "# 간단한 curl 명령어로 Text-in 형태의 질의를 입력\n",
    "!curl -s -u :$OPENAI_API_KEY    -H 'Content-Type: application/json' https://api.openai.com/v1/completions -d '{ \\\n",
    "     \"model\": \"davinci\", \\\n",
    "     \"temperature\": 0, \\\n",
    "     \"stop\": \"\\n\", \\\n",
    "     \"prompt\": \"We’re releasing an API for accessing new AI models developed by OpenAI. Unlike most AI systems which are designed for one use-case, the API today provides a general-purpose “text in, text out” interface, allowing users to try it on virtually any English language task. You can now request access in order to integrate the API into your product, develop an entirely new application, or help us explore the strengths and limits of this technology.” \\\n",
    "}’\n"
   ]
  },
  {
   "cell_type": "markdown",
   "metadata": {},
   "source": [
    "### API 응답 결과\n",
    "```\n",
    "{\n",
    "    \"choices\": [\n",
    "        {\n",
    "        \"finish_reason\": \"stop\",\n",
    "        \"index\": 0,\n",
    "        \"logprobs\": null,\n",
    "        \"text\": \"The road to making AI safe and useful is long and challenging, but with the support of the developer community we expect to get there much faster than working alone.\"\n",
    "        }\n",
    "    ],\n",
    "    \"created\": 1591591436,\n",
    "    \"id\": \"cmpl-QMXsObreAfysApcgi5Kw1uwp\",\n",
    "    \"model\": \"davinci:2020-05-03\",\n",
    "    \"object\": \"completion\"\n",
    "}\n",
    "```"
   ]
  },
  {
   "cell_type": "markdown",
   "metadata": {},
   "source": [
    "## Reference \n",
    "- OpenAI Official Webpage https://openai.com/blog/openai-api/\n",
    "- Github https://github.com/openai/gpt-3"
   ]
  }
 ],
 "metadata": {
  "kernelspec": {
   "display_name": "Python 3",
   "language": "python",
   "name": "python3"
  },
  "language_info": {
   "codemirror_mode": {
    "name": "ipython",
    "version": 3
   },
   "file_extension": ".py",
   "mimetype": "text/x-python",
   "name": "python",
   "nbconvert_exporter": "python",
   "pygments_lexer": "ipython3",
   "version": "3.7.7"
  }
 },
 "nbformat": 4,
 "nbformat_minor": 4
}
